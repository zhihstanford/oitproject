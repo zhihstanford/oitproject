{
 "cells": [
  {
   "cell_type": "code",
   "execution_count": 52,
   "id": "629129ec",
   "metadata": {},
   "outputs": [],
   "source": [
    "import numpy as np\n",
    "import matplotlib.pyplot as plt\n",
    "import pandas as pd\n",
    "import statsmodels.formula.api as smf\n",
    "import statsmodels.api as sm\n",
    "from sklearn.metrics import roc_auc_score, roc_curve,auc"
   ]
  },
  {
   "cell_type": "code",
   "execution_count": 53,
   "id": "c4e3d9fa",
   "metadata": {},
   "outputs": [],
   "source": [
    "# read Excel data and combine into one data structure\n",
    "data = pd.read_excel(\"Handbag Data_KP5.xlsx\")"
   ]
  },
  {
   "cell_type": "code",
   "execution_count": 112,
   "id": "87971112",
   "metadata": {},
   "outputs": [
    {
     "name": "stdout",
     "output_type": "stream",
     "text": [
      "      Name Financial Status  Expired  Paid  Partially_Paid  \\\n",
      "0  #136493             paid        0     1               0   \n",
      "1  #136491             paid        0     1               0   \n",
      "2  #136490         refunded        0     0               0   \n",
      "3  #136487             paid        0     1               0   \n",
      "4  #136486             paid        0     1               0   \n",
      "\n",
      "   Partially_Refunded  Pending  Refunded  Voided  Successful_Order  ...  \\\n",
      "0                   0        0         0       0                 1  ...   \n",
      "1                   0        0         0       0                 1  ...   \n",
      "2                   0        0         1       0                 0  ...   \n",
      "3                   0        0         0       0                 1  ...   \n",
      "4                   0        0         0       0                 1  ...   \n",
      "\n",
      "  Month_11  Month_12  Month_2  Month_3  Month_4  Month_5  Month_6  Month_7  \\\n",
      "0        0         0        1        0        0        0        0        0   \n",
      "1        1         0        0        0        0        0        0        0   \n",
      "2        1         0        0        0        0        0        0        0   \n",
      "3        0         1        0        0        0        0        0        0   \n",
      "4        0         1        0        0        0        0        0        0   \n",
      "\n",
      "   Month_8  Month_9  \n",
      "0        0        0  \n",
      "1        0        0  \n",
      "2        0        0  \n",
      "3        0        0  \n",
      "4        0        0  \n",
      "\n",
      "[5 rows x 122 columns]\n"
     ]
    }
   ],
   "source": [
    "# Make sure 'Month' column exists\n",
    "data['Paid at'] = pd.to_datetime(data['Paid at'], errors='coerce')  # Handle errors just in case\n",
    "data['Month'] = data['Paid at'].dt.month\n",
    "\n",
    "# Convert 'Month' to string to make sure we get separate columns for each month\n",
    "data['Month'] = data['Month'].astype(str)\n",
    "\n",
    "# Generate dummy variables for each month\n",
    "month_dummies = pd.get_dummies(data['Month'], prefix='Month')\n",
    "\n",
    "# Concatenate the dummy variables with the original DataFrame\n",
    "data = pd.concat([data, month_dummies], axis=1)\n",
    "\n",
    "# Now 'data' contains a set of new columns: 'Month_1', 'Month_2', ..., 'Month_12',\n",
    "# each indicating the presence of a month with 0 or 1.\n",
    "\n",
    "# Optionally, you can check the result\n",
    "print(data.head())"
   ]
  },
  {
   "cell_type": "code",
   "execution_count": 113,
   "id": "c87327eb",
   "metadata": {},
   "outputs": [],
   "source": [
    "# Define the state to region mapping\n",
    "state_to_region = {\n",
    "    'AL': 'South', 'AK': 'West', 'AZ': 'West', 'AR': 'South', 'CA': 'West',\n",
    "    'CO': 'West', 'CT': 'East', 'DE': 'East', 'FL': 'South', 'GA': 'South',\n",
    "    'HI': 'West', 'ID': 'West', 'IL': 'Midwest', 'IN': 'Midwest', 'IA': 'Midwest',\n",
    "    'KS': 'Midwest', 'KY': 'South', 'LA': 'South', 'ME': 'East', 'MD': 'East',\n",
    "    'MA': 'East', 'MI': 'Midwest', 'MN': 'Midwest', 'MS': 'South', 'MO': 'Midwest',\n",
    "    'MT': 'West', 'NE': 'Midwest', 'NV': 'West', 'NH': 'East', 'NJ': 'East',\n",
    "    'NM': 'West', 'NY': 'East', 'NC': 'South', 'ND': 'Midwest', 'OH': 'Midwest',\n",
    "    'OK': 'South', 'OR': 'West', 'PA': 'East', 'RI': 'East', 'SC': 'South',\n",
    "    'SD': 'Midwest', 'TN': 'South', 'TX': 'South', 'UT': 'West', 'VT': 'East',\n",
    "    'VA': 'South', 'WA': 'West', 'WV': 'South', 'WI': 'Midwest', 'WY': 'West',\n",
    "    'DC': 'East', 'PR': 'South'\n",
    "}"
   ]
  },
  {
   "cell_type": "code",
   "execution_count": 114,
   "id": "e6862d60",
   "metadata": {},
   "outputs": [
    {
     "name": "stdout",
     "output_type": "stream",
     "text": [
      "          Name    Financial Status  Expired  Paid  Partially_Paid  \\\n",
      "0      #136493                paid        0     1               0   \n",
      "1      #136491                paid        0     1               0   \n",
      "2      #136490            refunded        0     0               0   \n",
      "3      #136487                paid        0     1               0   \n",
      "4      #136486                paid        0     1               0   \n",
      "...        ...                 ...      ...   ...             ...   \n",
      "36007   #97828                paid        0     1               0   \n",
      "36008   #97827                paid        0     1               0   \n",
      "36009   #97826  partially_refunded        0     0               0   \n",
      "36010   #97825  partially_refunded        0     0               0   \n",
      "36011   #97824                paid        0     1               0   \n",
      "\n",
      "       Partially_Refunded  Pending  Refunded  Voided  Successful_Order  ...  \\\n",
      "0                       0        0         0       0                 1  ...   \n",
      "1                       0        0         0       0                 1  ...   \n",
      "2                       0        0         1       0                 0  ...   \n",
      "3                       0        0         0       0                 1  ...   \n",
      "4                       0        0         0       0                 1  ...   \n",
      "...                   ...      ...       ...     ...               ...  ...   \n",
      "36007                   0        0         0       0                 1  ...   \n",
      "36008                   0        0         0       0                 1  ...   \n",
      "36009                   1        0         0       0                 0  ...   \n",
      "36010                   1        0         0       0                 0  ...   \n",
      "36011                   0        0         0       0                 1  ...   \n",
      "\n",
      "      Month_11  Month_12  Month_2  Month_3  Month_4  Month_5  Month_6  \\\n",
      "0            0         0        1        0        0        0        0   \n",
      "1            1         0        0        0        0        0        0   \n",
      "2            1         0        0        0        0        0        0   \n",
      "3            0         1        0        0        0        0        0   \n",
      "4            0         1        0        0        0        0        0   \n",
      "...        ...       ...      ...      ...      ...      ...      ...   \n",
      "36007        0         1        0        0        0        0        0   \n",
      "36008        1         0        0        0        0        0        0   \n",
      "36009        0         1        0        0        0        0        0   \n",
      "36010        0         1        0        0        0        0        0   \n",
      "36011        0         1        0        0        0        0        0   \n",
      "\n",
      "       Month_7  Month_8  Month_9  \n",
      "0            0        0        0  \n",
      "1            0        0        0  \n",
      "2            0        0        0  \n",
      "3            0        0        0  \n",
      "4            0        0        0  \n",
      "...        ...      ...      ...  \n",
      "36007        0        0        0  \n",
      "36008        0        0        0  \n",
      "36009        0        0        0  \n",
      "36010        0        0        0  \n",
      "36011        0        0        0  \n",
      "\n",
      "[35941 rows x 122 columns]\n"
     ]
    }
   ],
   "source": [
    "df = pd.DataFrame(data)\n",
    "\n",
    "# Function to map state to region\n",
    "def map_state_to_region(state):\n",
    "    return state_to_region.get(state, 'International')\n",
    "\n",
    "# Creating a new 'Region' column by applying the mapping function\n",
    "df['Region'] = df['Shipping Province'].apply(map_state_to_region)\n",
    "\n",
    "# Function to add dummy variable columns for each region directly to the DataFrame\n",
    "def add_region_columns(df):\n",
    "    # Create dummy variables for the regions based on the 'Region' column\n",
    "    region_dummies = pd.get_dummies(df['Region'])\n",
    "\n",
    "    # Concatenate the dummy variables with the original DataFrame\n",
    "    return pd.concat([df, region_dummies], axis=1)\n",
    "\n",
    "print(df)"
   ]
  },
  {
   "cell_type": "code",
   "execution_count": 115,
   "id": "ac29aea4",
   "metadata": {},
   "outputs": [],
   "source": [
    "trainIndices = np.arange(21607)\n",
    "valIndices = np.arange(21608,len(data))\n",
    "training = df.iloc[trainIndices,:]\n",
    "validation = df.iloc[valIndices,:]"
   ]
  },
  {
   "cell_type": "code",
   "execution_count": 116,
   "id": "03f034b9",
   "metadata": {},
   "outputs": [],
   "source": [
    "#formula = 'Successful_Order ~ Bag_Purchased + Last_Chance + Discount + Region + Lineitem_quantity + Subtotal'\n",
    "formula = 'Successful_Order ~ Number_of_Bags + Last_Chance + Discount + Region + Lineitem_quantity + Subtotal + Month'"
   ]
  },
  {
   "cell_type": "code",
   "execution_count": 117,
   "id": "d2f98eee",
   "metadata": {},
   "outputs": [
    {
     "name": "stdout",
     "output_type": "stream",
     "text": [
      "Optimization terminated successfully.\n",
      "         Current function value: 0.339155\n",
      "         Iterations 7\n",
      "                           Logit Regression Results                           \n",
      "==============================================================================\n",
      "Dep. Variable:       Successful_Order   No. Observations:                21607\n",
      "Model:                          Logit   Df Residuals:                    21586\n",
      "Method:                           MLE   Df Model:                           20\n",
      "Date:                Mon, 11 Mar 2024   Pseudo R-squ.:                 0.07572\n",
      "Time:                        22:43:05   Log-Likelihood:                -7328.1\n",
      "converged:                       True   LL-Null:                       -7928.5\n",
      "Covariance Type:            nonrobust   LLR p-value:                5.264e-242\n",
      "===========================================================================================\n",
      "                              coef    std err          z      P>|z|      [0.025      0.975]\n",
      "-------------------------------------------------------------------------------------------\n",
      "Intercept                   3.1849      0.152     21.002      0.000       2.888       3.482\n",
      "Region[T.International]     1.4170      0.073     19.512      0.000       1.275       1.559\n",
      "Region[T.Midwest]           0.1732      0.085      2.035      0.042       0.006       0.340\n",
      "Region[T.South]             0.0925      0.063      1.458      0.145      -0.032       0.217\n",
      "Region[T.West]              0.1689      0.058      2.928      0.003       0.056       0.282\n",
      "Month[T.10]                -0.3297      0.130     -2.528      0.011      -0.585      -0.074\n",
      "Month[T.11]                 0.1274      0.125      1.018      0.308      -0.118       0.373\n",
      "Month[T.12]                 0.2705      0.137      1.976      0.048       0.002       0.539\n",
      "Month[T.2]                  0.0122      0.127      0.096      0.924      -0.237       0.261\n",
      "Month[T.3]                 -0.0846      0.121     -0.699      0.485      -0.322       0.153\n",
      "Month[T.4]                  0.0347      0.114      0.306      0.760      -0.188       0.257\n",
      "Month[T.5]                 -0.2540      0.122     -2.082      0.037      -0.493      -0.015\n",
      "Month[T.6]                 -0.4596      0.125     -3.690      0.000      -0.704      -0.215\n",
      "Month[T.7]                 -0.2734      0.126     -2.169      0.030      -0.520      -0.026\n",
      "Month[T.8]                  0.1592      0.122      1.300      0.194      -0.081       0.399\n",
      "Month[T.9]                 -0.4795      0.123     -3.892      0.000      -0.721      -0.238\n",
      "Number_of_Bags             -0.0892      0.032     -2.810      0.005      -0.151      -0.027\n",
      "Last_Chance                -0.1394      0.046     -3.004      0.003      -0.230      -0.048\n",
      "Discount                   -0.0431      0.045     -0.959      0.338      -0.131       0.045\n",
      "Lineitem_quantity          -0.5195      0.085     -6.106      0.000      -0.686      -0.353\n",
      "Subtotal                   -0.0017      0.000    -16.640      0.000      -0.002      -0.001\n",
      "===========================================================================================\n"
     ]
    }
   ],
   "source": [
    "# Now, fit the model with the corrected formula\n",
    "model_success = smf.logit(formula=formula, data=training).fit()\n",
    "\n",
    "# Predict and print the summary\n",
    "validationProbs = model_success.predict(validation)\n",
    "print(model_success.summary())"
   ]
  },
  {
   "cell_type": "code",
   "execution_count": 118,
   "id": "3d661de2",
   "metadata": {},
   "outputs": [
    {
     "name": "stdout",
     "output_type": "stream",
     "text": [
      "AUC of the logistic regression on the validation set is 0.6681241004764391\n"
     ]
    }
   ],
   "source": [
    "auc = roc_auc_score(validation['Successful_Order'], validationProbs)\n",
    "print('AUC of the logistic regression on the validation set is',auc)"
   ]
  },
  {
   "cell_type": "code",
   "execution_count": null,
   "id": "d884532c",
   "metadata": {},
   "outputs": [],
   "source": []
  }
 ],
 "metadata": {
  "kernelspec": {
   "display_name": "Python 3 (ipykernel)",
   "language": "python",
   "name": "python3"
  },
  "language_info": {
   "codemirror_mode": {
    "name": "ipython",
    "version": 3
   },
   "file_extension": ".py",
   "mimetype": "text/x-python",
   "name": "python",
   "nbconvert_exporter": "python",
   "pygments_lexer": "ipython3",
   "version": "3.11.4"
  }
 },
 "nbformat": 4,
 "nbformat_minor": 5
}
