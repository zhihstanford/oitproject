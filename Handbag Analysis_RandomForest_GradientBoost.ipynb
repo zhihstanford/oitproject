{
 "cells": [
  {
   "cell_type": "code",
   "execution_count": 1,
   "id": "629129ec",
   "metadata": {},
   "outputs": [],
   "source": [
    "import numpy as np\n",
    "import matplotlib.pyplot as plt\n",
    "import pandas as pd\n",
    "import statsmodels.formula.api as smf\n",
    "import statsmodels.api as sm\n",
    "from sklearn.metrics import roc_auc_score, roc_curve,auc\n",
    "from datetime import datetime\n",
    "import ast\n",
    "from sklearn.utils import shuffle\n",
    "import matplotlib.pyplot as plt\n",
    "import seaborn as sns; sns.set(style='whitegrid')\n",
    "from sklearn.ensemble import RandomForestClassifier\n",
    "from sklearn.preprocessing import OneHotEncoder\n",
    "from sklearn.impute import SimpleImputer\n",
    "from sklearn.ensemble import HistGradientBoostingClassifier"
   ]
  },
  {
   "cell_type": "code",
   "execution_count": 2,
   "id": "c4e3d9fa",
   "metadata": {},
   "outputs": [],
   "source": [
    "# read Excel data and combine into one data structure\n",
    "data = pd.read_excel(\"Handbag Data_KP5.xlsx\")"
   ]
  },
  {
   "cell_type": "code",
   "execution_count": 3,
   "id": "87971112",
   "metadata": {},
   "outputs": [
    {
     "name": "stdout",
     "output_type": "stream",
     "text": [
      "      Name Financial Status  Expired  Paid  Partially_Paid  \\\n",
      "0  #136493             paid        0     1               0   \n",
      "1  #136491             paid        0     1               0   \n",
      "2  #136490         refunded        0     0               0   \n",
      "3  #136487             paid        0     1               0   \n",
      "4  #136486             paid        0     1               0   \n",
      "\n",
      "   Partially_Refunded  Pending  Refunded  Voided  Successful_Order  ...  \\\n",
      "0                   0        0         0       0                 1  ...   \n",
      "1                   0        0         0       0                 1  ...   \n",
      "2                   0        0         1       0                 0  ...   \n",
      "3                   0        0         0       0                 1  ...   \n",
      "4                   0        0         0       0                 1  ...   \n",
      "\n",
      "  Month_12.0  Month_2.0  Month_3.0  Month_4.0  Month_5.0  Month_6.0  \\\n",
      "0      False       True      False      False      False      False   \n",
      "1      False      False      False      False      False      False   \n",
      "2      False      False      False      False      False      False   \n",
      "3       True      False      False      False      False      False   \n",
      "4       True      False      False      False      False      False   \n",
      "\n",
      "   Month_7.0  Month_8.0  Month_9.0  Month_nan  \n",
      "0      False      False      False      False  \n",
      "1      False      False      False      False  \n",
      "2      False      False      False      False  \n",
      "3      False      False      False      False  \n",
      "4      False      False      False      False  \n",
      "\n",
      "[5 rows x 111 columns]\n"
     ]
    }
   ],
   "source": [
    "# Make sure 'Month' column exists\n",
    "data['Paid at'] = pd.to_datetime(data['Paid at'], errors='coerce')  # Handle errors just in case\n",
    "data['Month'] = data['Paid at'].dt.month\n",
    "\n",
    "# Convert 'Month' to string to make sure we get separate columns for each month\n",
    "data['Month'] = data['Month'].astype(str)\n",
    "\n",
    "# Generate dummy variables for each month\n",
    "month_dummies = pd.get_dummies(data['Month'], prefix='Month')\n",
    "\n",
    "# Concatenate the dummy variables with the original DataFrame\n",
    "data = pd.concat([data, month_dummies], axis=1)\n",
    "\n",
    "# Now 'data' contains a set of new columns: 'Month_1', 'Month_2', ..., 'Month_12',\n",
    "# each indicating the presence of a month with 0 or 1.\n",
    "\n",
    "# Optionally, you can check the result\n",
    "print(data.head())"
   ]
  },
  {
   "cell_type": "code",
   "execution_count": 4,
   "id": "c87327eb",
   "metadata": {},
   "outputs": [],
   "source": [
    "# Define the state to region mapping\n",
    "state_to_region = {\n",
    "    'AL': 'South', 'AK': 'West', 'AZ': 'West', 'AR': 'South', 'CA': 'West',\n",
    "    'CO': 'West', 'CT': 'East', 'DE': 'East', 'FL': 'South', 'GA': 'South',\n",
    "    'HI': 'West', 'ID': 'West', 'IL': 'Midwest', 'IN': 'Midwest', 'IA': 'Midwest',\n",
    "    'KS': 'Midwest', 'KY': 'South', 'LA': 'South', 'ME': 'East', 'MD': 'East',\n",
    "    'MA': 'East', 'MI': 'Midwest', 'MN': 'Midwest', 'MS': 'South', 'MO': 'Midwest',\n",
    "    'MT': 'West', 'NE': 'Midwest', 'NV': 'West', 'NH': 'East', 'NJ': 'East',\n",
    "    'NM': 'West', 'NY': 'East', 'NC': 'South', 'ND': 'Midwest', 'OH': 'Midwest',\n",
    "    'OK': 'South', 'OR': 'West', 'PA': 'East', 'RI': 'East', 'SC': 'South',\n",
    "    'SD': 'Midwest', 'TN': 'South', 'TX': 'South', 'UT': 'West', 'VT': 'East',\n",
    "    'VA': 'South', 'WA': 'West', 'WV': 'South', 'WI': 'Midwest', 'WY': 'West',\n",
    "    'DC': 'East', 'PR': 'South'\n",
    "}"
   ]
  },
  {
   "cell_type": "code",
   "execution_count": 5,
   "id": "e6862d60",
   "metadata": {},
   "outputs": [
    {
     "name": "stdout",
     "output_type": "stream",
     "text": [
      "          Name    Financial Status  Expired  Paid  Partially_Paid  \\\n",
      "0      #136493                paid        0     1               0   \n",
      "1      #136491                paid        0     1               0   \n",
      "2      #136490            refunded        0     0               0   \n",
      "3      #136487                paid        0     1               0   \n",
      "4      #136486                paid        0     1               0   \n",
      "...        ...                 ...      ...   ...             ...   \n",
      "36007   #97828                paid        0     1               0   \n",
      "36008   #97827                paid        0     1               0   \n",
      "36009   #97826  partially_refunded        0     0               0   \n",
      "36010   #97825  partially_refunded        0     0               0   \n",
      "36011   #97824                paid        0     1               0   \n",
      "\n",
      "       Partially_Refunded  Pending  Refunded  Voided  Successful_Order  ...  \\\n",
      "0                       0        0         0       0                 1  ...   \n",
      "1                       0        0         0       0                 1  ...   \n",
      "2                       0        0         1       0                 0  ...   \n",
      "3                       0        0         0       0                 1  ...   \n",
      "4                       0        0         0       0                 1  ...   \n",
      "...                   ...      ...       ...     ...               ...  ...   \n",
      "36007                   0        0         0       0                 1  ...   \n",
      "36008                   0        0         0       0                 1  ...   \n",
      "36009                   1        0         0       0                 0  ...   \n",
      "36010                   1        0         0       0                 0  ...   \n",
      "36011                   0        0         0       0                 1  ...   \n",
      "\n",
      "      Month_2.0  Month_3.0  Month_4.0  Month_5.0  Month_6.0  Month_7.0  \\\n",
      "0          True      False      False      False      False      False   \n",
      "1         False      False      False      False      False      False   \n",
      "2         False      False      False      False      False      False   \n",
      "3         False      False      False      False      False      False   \n",
      "4         False      False      False      False      False      False   \n",
      "...         ...        ...        ...        ...        ...        ...   \n",
      "36007     False      False      False      False      False      False   \n",
      "36008     False      False      False      False      False      False   \n",
      "36009     False      False      False      False      False      False   \n",
      "36010     False      False      False      False      False      False   \n",
      "36011     False      False      False      False      False      False   \n",
      "\n",
      "       Month_8.0  Month_9.0  Month_nan         Region  \n",
      "0          False      False      False  International  \n",
      "1          False      False      False           West  \n",
      "2          False      False      False           East  \n",
      "3          False      False      False          South  \n",
      "4          False      False      False           East  \n",
      "...          ...        ...        ...            ...  \n",
      "36007      False      False      False  International  \n",
      "36008      False      False      False           East  \n",
      "36009      False      False      False        Midwest  \n",
      "36010      False      False      False           West  \n",
      "36011      False      False      False  International  \n",
      "\n",
      "[36012 rows x 112 columns]\n"
     ]
    }
   ],
   "source": [
    "df = pd.DataFrame(data)\n",
    "\n",
    "# Function to map state to region\n",
    "def map_state_to_region(state):\n",
    "    return state_to_region.get(state, 'International')\n",
    "\n",
    "# Creating a new 'Region' column by applying the mapping function\n",
    "df['Region'] = df['Shipping Province'].apply(map_state_to_region)\n",
    "\n",
    "# Function to add dummy variable columns for each region directly to the DataFrame\n",
    "def add_region_columns(df):\n",
    "    # Create dummy variables for the regions based on the 'Region' column\n",
    "    region_dummies = pd.get_dummies(df['Region'])\n",
    "\n",
    "    # Concatenate the dummy variables with the original DataFrame\n",
    "    return pd.concat([df, region_dummies], axis=1)\n",
    "\n",
    "print(df)"
   ]
  },
  {
   "cell_type": "code",
   "execution_count": 6,
   "id": "ac29aea4",
   "metadata": {},
   "outputs": [],
   "source": [
    "trainIndices = np.arange(21607)\n",
    "valIndices = np.arange(21608,len(data))\n",
    "training = df.iloc[trainIndices,:]\n",
    "validation = df.iloc[valIndices,:]"
   ]
  },
  {
   "cell_type": "code",
   "execution_count": 22,
   "id": "8cd6a856",
   "metadata": {},
   "outputs": [],
   "source": [
    "Region_encoded = pd.get_dummies(df['Region'], prefix='Region')\n",
    "df = pd.concat([df, Region_encoded], axis=1)\n",
    "\n",
    "# Now, update feature_names to include the new columns from Region_encoded\n",
    "# This requires knowing or retrieving the column names generated by get_dummies\n",
    "new_region_features = Region_encoded.columns.tolist()\n",
    "feature_names = ['Number_of_Bags', 'Last_Chance', 'Discount', 'Lineitem_quantity', 'Subtotal', 'Month'] + new_region_features"
   ]
  },
  {
   "cell_type": "code",
   "execution_count": 24,
   "id": "9bf5fe2e",
   "metadata": {},
   "outputs": [],
   "source": [
    "trainIndices = np.arange(21607)\n",
    "valIndices = np.arange(21608,len(data))\n",
    "training = df.iloc[trainIndices,:]\n",
    "validation = df.iloc[valIndices,:]"
   ]
  },
  {
   "cell_type": "code",
   "execution_count": 25,
   "id": "70677d8d",
   "metadata": {},
   "outputs": [],
   "source": [
    "# Select features for X and the target variable y from the training set\n",
    "X = training[feature_names]\n",
    "y = training['Successful_Order']\n",
    "\n",
    "# Prepare the test set features similarly\n",
    "Z = validation[feature_names]"
   ]
  },
  {
   "cell_type": "code",
   "execution_count": 33,
   "id": "b4531976",
   "metadata": {},
   "outputs": [],
   "source": [
    "# Drop rows with NaN values from X and ensure y is aligned\n",
    "X_clean = X.dropna()\n",
    "y_clean = y.loc[X_clean.index]  # Align y with the cleaned X"
   ]
  },
  {
   "cell_type": "code",
   "execution_count": 35,
   "id": "eec0d3f2",
   "metadata": {},
   "outputs": [
    {
     "name": "stdout",
     "output_type": "stream",
     "text": [
      "NaN values in X: 0\n",
      "NaN values in y: 0\n"
     ]
    }
   ],
   "source": [
    "print(f\"NaN values in X: {X_clean.isnull().any().sum()}\")\n",
    "print(f\"NaN values in y: {y_clean.isnull().any().sum()}\")"
   ]
  },
  {
   "cell_type": "code",
   "execution_count": null,
   "id": "50e584ad",
   "metadata": {},
   "outputs": [],
   "source": [
    "# Now, fit your model with the cleaned datasets\n",
    "model = RandomForestClassifier(n_estimators=5)\n",
    "model.fit(X_clean, y_clean)"
   ]
  },
  {
   "cell_type": "code",
   "execution_count": 62,
   "id": "e79645c0",
   "metadata": {},
   "outputs": [
    {
     "data": {
      "text/html": [
       "<style>#sk-container-id-9 {color: black;}#sk-container-id-9 pre{padding: 0;}#sk-container-id-9 div.sk-toggleable {background-color: white;}#sk-container-id-9 label.sk-toggleable__label {cursor: pointer;display: block;width: 100%;margin-bottom: 0;padding: 0.3em;box-sizing: border-box;text-align: center;}#sk-container-id-9 label.sk-toggleable__label-arrow:before {content: \"▸\";float: left;margin-right: 0.25em;color: #696969;}#sk-container-id-9 label.sk-toggleable__label-arrow:hover:before {color: black;}#sk-container-id-9 div.sk-estimator:hover label.sk-toggleable__label-arrow:before {color: black;}#sk-container-id-9 div.sk-toggleable__content {max-height: 0;max-width: 0;overflow: hidden;text-align: left;background-color: #f0f8ff;}#sk-container-id-9 div.sk-toggleable__content pre {margin: 0.2em;color: black;border-radius: 0.25em;background-color: #f0f8ff;}#sk-container-id-9 input.sk-toggleable__control:checked~div.sk-toggleable__content {max-height: 200px;max-width: 100%;overflow: auto;}#sk-container-id-9 input.sk-toggleable__control:checked~label.sk-toggleable__label-arrow:before {content: \"▾\";}#sk-container-id-9 div.sk-estimator input.sk-toggleable__control:checked~label.sk-toggleable__label {background-color: #d4ebff;}#sk-container-id-9 div.sk-label input.sk-toggleable__control:checked~label.sk-toggleable__label {background-color: #d4ebff;}#sk-container-id-9 input.sk-hidden--visually {border: 0;clip: rect(1px 1px 1px 1px);clip: rect(1px, 1px, 1px, 1px);height: 1px;margin: -1px;overflow: hidden;padding: 0;position: absolute;width: 1px;}#sk-container-id-9 div.sk-estimator {font-family: monospace;background-color: #f0f8ff;border: 1px dotted black;border-radius: 0.25em;box-sizing: border-box;margin-bottom: 0.5em;}#sk-container-id-9 div.sk-estimator:hover {background-color: #d4ebff;}#sk-container-id-9 div.sk-parallel-item::after {content: \"\";width: 100%;border-bottom: 1px solid gray;flex-grow: 1;}#sk-container-id-9 div.sk-label:hover label.sk-toggleable__label {background-color: #d4ebff;}#sk-container-id-9 div.sk-serial::before {content: \"\";position: absolute;border-left: 1px solid gray;box-sizing: border-box;top: 0;bottom: 0;left: 50%;z-index: 0;}#sk-container-id-9 div.sk-serial {display: flex;flex-direction: column;align-items: center;background-color: white;padding-right: 0.2em;padding-left: 0.2em;position: relative;}#sk-container-id-9 div.sk-item {position: relative;z-index: 1;}#sk-container-id-9 div.sk-parallel {display: flex;align-items: stretch;justify-content: center;background-color: white;position: relative;}#sk-container-id-9 div.sk-item::before, #sk-container-id-9 div.sk-parallel-item::before {content: \"\";position: absolute;border-left: 1px solid gray;box-sizing: border-box;top: 0;bottom: 0;left: 50%;z-index: -1;}#sk-container-id-9 div.sk-parallel-item {display: flex;flex-direction: column;z-index: 1;position: relative;background-color: white;}#sk-container-id-9 div.sk-parallel-item:first-child::after {align-self: flex-end;width: 50%;}#sk-container-id-9 div.sk-parallel-item:last-child::after {align-self: flex-start;width: 50%;}#sk-container-id-9 div.sk-parallel-item:only-child::after {width: 0;}#sk-container-id-9 div.sk-dashed-wrapped {border: 1px dashed gray;margin: 0 0.4em 0.5em 0.4em;box-sizing: border-box;padding-bottom: 0.4em;background-color: white;}#sk-container-id-9 div.sk-label label {font-family: monospace;font-weight: bold;display: inline-block;line-height: 1.2em;}#sk-container-id-9 div.sk-label-container {text-align: center;}#sk-container-id-9 div.sk-container {/* jupyter's `normalize.less` sets `[hidden] { display: none; }` but bootstrap.min.css set `[hidden] { display: none !important; }` so we also need the `!important` here to be able to override the default hidden behavior on the sphinx rendered scikit-learn.org. See: https://github.com/scikit-learn/scikit-learn/issues/21755 */display: inline-block !important;position: relative;}#sk-container-id-9 div.sk-text-repr-fallback {display: none;}</style><div id=\"sk-container-id-9\" class=\"sk-top-container\"><div class=\"sk-text-repr-fallback\"><pre>Pipeline(steps=[(&#x27;imputer&#x27;, SimpleImputer()),\n",
       "                (&#x27;classifier&#x27;, RandomForestClassifier())])</pre><b>In a Jupyter environment, please rerun this cell to show the HTML representation or trust the notebook. <br />On GitHub, the HTML representation is unable to render, please try loading this page with nbviewer.org.</b></div><div class=\"sk-container\" hidden><div class=\"sk-item sk-dashed-wrapped\"><div class=\"sk-label-container\"><div class=\"sk-label sk-toggleable\"><input class=\"sk-toggleable__control sk-hidden--visually\" id=\"sk-estimator-id-17\" type=\"checkbox\" ><label for=\"sk-estimator-id-17\" class=\"sk-toggleable__label sk-toggleable__label-arrow\">Pipeline</label><div class=\"sk-toggleable__content\"><pre>Pipeline(steps=[(&#x27;imputer&#x27;, SimpleImputer()),\n",
       "                (&#x27;classifier&#x27;, RandomForestClassifier())])</pre></div></div></div><div class=\"sk-serial\"><div class=\"sk-item\"><div class=\"sk-estimator sk-toggleable\"><input class=\"sk-toggleable__control sk-hidden--visually\" id=\"sk-estimator-id-18\" type=\"checkbox\" ><label for=\"sk-estimator-id-18\" class=\"sk-toggleable__label sk-toggleable__label-arrow\">SimpleImputer</label><div class=\"sk-toggleable__content\"><pre>SimpleImputer()</pre></div></div></div><div class=\"sk-item\"><div class=\"sk-estimator sk-toggleable\"><input class=\"sk-toggleable__control sk-hidden--visually\" id=\"sk-estimator-id-19\" type=\"checkbox\" ><label for=\"sk-estimator-id-19\" class=\"sk-toggleable__label sk-toggleable__label-arrow\">RandomForestClassifier</label><div class=\"sk-toggleable__content\"><pre>RandomForestClassifier()</pre></div></div></div></div></div></div></div>"
      ],
      "text/plain": [
       "Pipeline(steps=[('imputer', SimpleImputer()),\n",
       "                ('classifier', RandomForestClassifier())])"
      ]
     },
     "execution_count": 62,
     "metadata": {},
     "output_type": "execute_result"
    }
   ],
   "source": [
    "from sklearn.impute import SimpleImputer\n",
    "from sklearn.ensemble import RandomForestClassifier\n",
    "from sklearn.pipeline import Pipeline\n",
    "\n",
    "# Create an imputer and the RandomForestClassifier\n",
    "imputer = SimpleImputer(strategy='mean')  # Or another strategy as appropriate\n",
    "classifier = RandomForestClassifier(n_estimators=100)\n",
    "\n",
    "# Create a pipeline that first imputes missing values, then fits the model\n",
    "pipeline = Pipeline(steps=[('imputer', imputer), ('classifier', classifier)])\n",
    "\n",
    "# Fit the pipeline on your datasets\n",
    "pipeline.fit(X, y)  # Note: Use the original X and y here, the imputer will handle NaN values\n",
    "\n",
    "# Now you can use the pipeline to make predictions, and it will handle missing values using the specified strategy"
   ]
  },
  {
   "cell_type": "code",
   "execution_count": 63,
   "id": "66b4eb5d",
   "metadata": {},
   "outputs": [
    {
     "name": "stdout",
     "output_type": "stream",
     "text": [
      "AUC of the RandomForestClassifier on the test set is 0.5392391826077838\n"
     ]
    }
   ],
   "source": [
    "# Make predictions on the test set\n",
    "test_predictions = pipeline.predict(Z)\n",
    "\n",
    "test_auc = roc_auc_score(validation['Successful_Order'], test_predictions)\n",
    "print('AUC of the RandomForestClassifier on the test set is',test_auc)"
   ]
  },
  {
   "cell_type": "code",
   "execution_count": 59,
   "id": "b49c69e1",
   "metadata": {
    "scrolled": false
   },
   "outputs": [
    {
     "data": {
      "text/html": [
       "<style>#sk-container-id-8 {color: black;}#sk-container-id-8 pre{padding: 0;}#sk-container-id-8 div.sk-toggleable {background-color: white;}#sk-container-id-8 label.sk-toggleable__label {cursor: pointer;display: block;width: 100%;margin-bottom: 0;padding: 0.3em;box-sizing: border-box;text-align: center;}#sk-container-id-8 label.sk-toggleable__label-arrow:before {content: \"▸\";float: left;margin-right: 0.25em;color: #696969;}#sk-container-id-8 label.sk-toggleable__label-arrow:hover:before {color: black;}#sk-container-id-8 div.sk-estimator:hover label.sk-toggleable__label-arrow:before {color: black;}#sk-container-id-8 div.sk-toggleable__content {max-height: 0;max-width: 0;overflow: hidden;text-align: left;background-color: #f0f8ff;}#sk-container-id-8 div.sk-toggleable__content pre {margin: 0.2em;color: black;border-radius: 0.25em;background-color: #f0f8ff;}#sk-container-id-8 input.sk-toggleable__control:checked~div.sk-toggleable__content {max-height: 200px;max-width: 100%;overflow: auto;}#sk-container-id-8 input.sk-toggleable__control:checked~label.sk-toggleable__label-arrow:before {content: \"▾\";}#sk-container-id-8 div.sk-estimator input.sk-toggleable__control:checked~label.sk-toggleable__label {background-color: #d4ebff;}#sk-container-id-8 div.sk-label input.sk-toggleable__control:checked~label.sk-toggleable__label {background-color: #d4ebff;}#sk-container-id-8 input.sk-hidden--visually {border: 0;clip: rect(1px 1px 1px 1px);clip: rect(1px, 1px, 1px, 1px);height: 1px;margin: -1px;overflow: hidden;padding: 0;position: absolute;width: 1px;}#sk-container-id-8 div.sk-estimator {font-family: monospace;background-color: #f0f8ff;border: 1px dotted black;border-radius: 0.25em;box-sizing: border-box;margin-bottom: 0.5em;}#sk-container-id-8 div.sk-estimator:hover {background-color: #d4ebff;}#sk-container-id-8 div.sk-parallel-item::after {content: \"\";width: 100%;border-bottom: 1px solid gray;flex-grow: 1;}#sk-container-id-8 div.sk-label:hover label.sk-toggleable__label {background-color: #d4ebff;}#sk-container-id-8 div.sk-serial::before {content: \"\";position: absolute;border-left: 1px solid gray;box-sizing: border-box;top: 0;bottom: 0;left: 50%;z-index: 0;}#sk-container-id-8 div.sk-serial {display: flex;flex-direction: column;align-items: center;background-color: white;padding-right: 0.2em;padding-left: 0.2em;position: relative;}#sk-container-id-8 div.sk-item {position: relative;z-index: 1;}#sk-container-id-8 div.sk-parallel {display: flex;align-items: stretch;justify-content: center;background-color: white;position: relative;}#sk-container-id-8 div.sk-item::before, #sk-container-id-8 div.sk-parallel-item::before {content: \"\";position: absolute;border-left: 1px solid gray;box-sizing: border-box;top: 0;bottom: 0;left: 50%;z-index: -1;}#sk-container-id-8 div.sk-parallel-item {display: flex;flex-direction: column;z-index: 1;position: relative;background-color: white;}#sk-container-id-8 div.sk-parallel-item:first-child::after {align-self: flex-end;width: 50%;}#sk-container-id-8 div.sk-parallel-item:last-child::after {align-self: flex-start;width: 50%;}#sk-container-id-8 div.sk-parallel-item:only-child::after {width: 0;}#sk-container-id-8 div.sk-dashed-wrapped {border: 1px dashed gray;margin: 0 0.4em 0.5em 0.4em;box-sizing: border-box;padding-bottom: 0.4em;background-color: white;}#sk-container-id-8 div.sk-label label {font-family: monospace;font-weight: bold;display: inline-block;line-height: 1.2em;}#sk-container-id-8 div.sk-label-container {text-align: center;}#sk-container-id-8 div.sk-container {/* jupyter's `normalize.less` sets `[hidden] { display: none; }` but bootstrap.min.css set `[hidden] { display: none !important; }` so we also need the `!important` here to be able to override the default hidden behavior on the sphinx rendered scikit-learn.org. See: https://github.com/scikit-learn/scikit-learn/issues/21755 */display: inline-block !important;position: relative;}#sk-container-id-8 div.sk-text-repr-fallback {display: none;}</style><div id=\"sk-container-id-8\" class=\"sk-top-container\"><div class=\"sk-text-repr-fallback\"><pre>HistGradientBoostingClassifier()</pre><b>In a Jupyter environment, please rerun this cell to show the HTML representation or trust the notebook. <br />On GitHub, the HTML representation is unable to render, please try loading this page with nbviewer.org.</b></div><div class=\"sk-container\" hidden><div class=\"sk-item\"><div class=\"sk-estimator sk-toggleable\"><input class=\"sk-toggleable__control sk-hidden--visually\" id=\"sk-estimator-id-16\" type=\"checkbox\" checked><label for=\"sk-estimator-id-16\" class=\"sk-toggleable__label sk-toggleable__label-arrow\">HistGradientBoostingClassifier</label><div class=\"sk-toggleable__content\"><pre>HistGradientBoostingClassifier()</pre></div></div></div></div></div>"
      ],
      "text/plain": [
       "HistGradientBoostingClassifier()"
      ]
     },
     "execution_count": 59,
     "metadata": {},
     "output_type": "execute_result"
    }
   ],
   "source": [
    "# Now, fit your model with the cleaned datasets\n",
    "model = HistGradientBoostingClassifier()\n",
    "model.fit(X, y)"
   ]
  },
  {
   "cell_type": "code",
   "execution_count": 60,
   "id": "2aa6c570",
   "metadata": {},
   "outputs": [],
   "source": [
    "# Make predictions on the test set\n",
    "test_predictions = model.predict(Z)"
   ]
  },
  {
   "cell_type": "code",
   "execution_count": 61,
   "id": "4707138b",
   "metadata": {},
   "outputs": [
    {
     "name": "stdout",
     "output_type": "stream",
     "text": [
      "AUC of the HistGradientBoostingClassifier on the test set is 0.5218044212190314\n"
     ]
    }
   ],
   "source": [
    "test_auc = roc_auc_score(validation['Successful_Order'], test_predictions)\n",
    "print('AUC of the HistGradientBoostingClassifier on the test set is',test_auc)"
   ]
  }
 ],
 "metadata": {
  "kernelspec": {
   "display_name": "Python 3 (ipykernel)",
   "language": "python",
   "name": "python3"
  },
  "language_info": {
   "codemirror_mode": {
    "name": "ipython",
    "version": 3
   },
   "file_extension": ".py",
   "mimetype": "text/x-python",
   "name": "python",
   "nbconvert_exporter": "python",
   "pygments_lexer": "ipython3",
   "version": "3.11.5"
  }
 },
 "nbformat": 4,
 "nbformat_minor": 5
}
